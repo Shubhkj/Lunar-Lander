{
  "nbformat": 4,
  "nbformat_minor": 0,
  "metadata": {
    "colab": {
      "provenance": [],
      "authorship_tag": "ABX9TyMkYGmAQlOZk4qPFbUwsxob",
      "include_colab_link": true
    },
    "kernelspec": {
      "name": "python3",
      "display_name": "Python 3"
    },
    "language_info": {
      "name": "python"
    }
  },
  "cells": [
    {
      "cell_type": "markdown",
      "metadata": {
        "id": "view-in-github",
        "colab_type": "text"
      },
      "source": [
        "<a href=\"https://colab.research.google.com/github/Shubhkj/Lunar-Lander/blob/main/PPO_Lunar_Lander.ipynb\" target=\"_parent\"><img src=\"https://colab.research.google.com/assets/colab-badge.svg\" alt=\"Open In Colab\"/></a>"
      ]
    },
    {
      "cell_type": "code",
      "source": [
        "pip install swig"
      ],
      "metadata": {
        "colab": {
          "base_uri": "https://localhost:8080/"
        },
        "id": "kie08ETxbHrx",
        "outputId": "b6f6bb05-63b4-4b96-cf7a-e138a5bd700f"
      },
      "execution_count": null,
      "outputs": [
        {
          "output_type": "stream",
          "name": "stdout",
          "text": [
            "Requirement already satisfied: swig in /usr/local/lib/python3.10/dist-packages (4.2.1)\n"
          ]
        }
      ]
    },
    {
      "cell_type": "code",
      "source": [
        "pip install gym[box2d]"
      ],
      "metadata": {
        "colab": {
          "base_uri": "https://localhost:8080/"
        },
        "id": "oAxZ65Dqa_nr",
        "outputId": "c4a10aeb-9d3b-4524-d77c-278c51476c80"
      },
      "execution_count": null,
      "outputs": [
        {
          "output_type": "stream",
          "name": "stdout",
          "text": [
            "Requirement already satisfied: gym[box2d] in /usr/local/lib/python3.10/dist-packages (0.25.2)\n",
            "Requirement already satisfied: numpy>=1.18.0 in /usr/local/lib/python3.10/dist-packages (from gym[box2d]) (1.25.2)\n",
            "Requirement already satisfied: cloudpickle>=1.2.0 in /usr/local/lib/python3.10/dist-packages (from gym[box2d]) (2.2.1)\n",
            "Requirement already satisfied: gym-notices>=0.0.4 in /usr/local/lib/python3.10/dist-packages (from gym[box2d]) (0.0.8)\n",
            "Requirement already satisfied: box2d-py==2.3.5 in /usr/local/lib/python3.10/dist-packages (from gym[box2d]) (2.3.5)\n",
            "Requirement already satisfied: pygame==2.1.0 in /usr/local/lib/python3.10/dist-packages (from gym[box2d]) (2.1.0)\n",
            "Requirement already satisfied: swig==4.* in /usr/local/lib/python3.10/dist-packages (from gym[box2d]) (4.2.1)\n"
          ]
        }
      ]
    },
    {
      "cell_type": "code",
      "execution_count": null,
      "metadata": {
        "id": "-Zq4qwuXa1vf"
      },
      "outputs": [],
      "source": [
        "import torch\n",
        "import torch.nn as nn\n",
        "import torch.optim as optim\n",
        "import torch.nn.functional as F\n",
        "import torch.distributions as distributions\n",
        "\n",
        "import matplotlib.pyplot as plt\n",
        "import numpy as np\n",
        "import gym"
      ]
    },
    {
      "cell_type": "code",
      "source": [
        "train_env = gym.make('LunarLander-v2')\n",
        "test_env = gym.make('LunarLander-v2')"
      ],
      "metadata": {
        "colab": {
          "base_uri": "https://localhost:8080/"
        },
        "id": "7iHiHNtna3Iv",
        "outputId": "7fcbbe0d-7517-44ab-ea79-50b4fc6b104a"
      },
      "execution_count": null,
      "outputs": [
        {
          "output_type": "stream",
          "name": "stderr",
          "text": [
            "/usr/local/lib/python3.10/dist-packages/gym/core.py:317: DeprecationWarning: \u001b[33mWARN: Initializing wrapper in old step API which returns one bool instead of two. It is recommended to set `new_step_api=True` to use new step API. This will be the default behaviour in future.\u001b[0m\n",
            "  deprecation(\n",
            "/usr/local/lib/python3.10/dist-packages/gym/wrappers/step_api_compatibility.py:39: DeprecationWarning: \u001b[33mWARN: Initializing environment in old step API which returns one bool instead of two. It is recommended to set `new_step_api=True` to use new step API. This will be the default behaviour in future.\u001b[0m\n",
            "  deprecation(\n"
          ]
        }
      ]
    },
    {
      "cell_type": "code",
      "source": [
        "SEED = 1234\n",
        "\n",
        "train_env.seed(SEED);\n",
        "test_env.seed(SEED+1);\n",
        "np.random.seed(SEED);\n",
        "torch.manual_seed(SEED);"
      ],
      "metadata": {
        "colab": {
          "base_uri": "https://localhost:8080/"
        },
        "id": "0i6KFUtxa9Qg",
        "outputId": "6eac29b5-f296-45bd-8ba5-d1cb803985be"
      },
      "execution_count": null,
      "outputs": [
        {
          "output_type": "stream",
          "name": "stderr",
          "text": [
            "/usr/local/lib/python3.10/dist-packages/gym/core.py:256: DeprecationWarning: \u001b[33mWARN: Function `env.seed(seed)` is marked as deprecated and will be removed in the future. Please use `env.reset(seed=seed)` instead.\u001b[0m\n",
            "  deprecation(\n"
          ]
        }
      ]
    },
    {
      "cell_type": "code",
      "source": [
        "class MLP(nn.Module):\n",
        "    def __init__(self, input_dim, hidden_dim, output_dim, dropout = 0.1):\n",
        "        super().__init__()\n",
        "\n",
        "        self.net = nn.Sequential(\n",
        "            nn.Linear(input_dim, hidden_dim),\n",
        "            nn.Dropout(dropout),\n",
        "            nn.PReLU(),\n",
        "            nn.Linear(hidden_dim, hidden_dim),\n",
        "            nn.Dropout(dropout),\n",
        "            nn.PReLU(),\n",
        "            nn.Linear(hidden_dim, output_dim)\n",
        "        )\n",
        "\n",
        "    def forward(self, x):\n",
        "        x = self.net(x)\n",
        "        return x"
      ],
      "metadata": {
        "id": "unuShXf7bp_b"
      },
      "execution_count": null,
      "outputs": []
    },
    {
      "cell_type": "code",
      "source": [
        "class ActorCritic(nn.Module):\n",
        "    def __init__(self, actor, critic):\n",
        "        super().__init__()\n",
        "\n",
        "        self.actor = actor\n",
        "        self.critic = critic\n",
        "\n",
        "    def forward(self, state):\n",
        "\n",
        "        action_pred = self.actor(state)\n",
        "        value_pred = self.critic(state)\n",
        "\n",
        "        return action_pred, value_pred"
      ],
      "metadata": {
        "id": "l5oS5GuBbsTG"
      },
      "execution_count": null,
      "outputs": []
    },
    {
      "cell_type": "code",
      "source": [
        "INPUT_DIM = train_env.observation_space.shape[0]\n",
        "HIDDEN_DIM = 128\n",
        "OUTPUT_DIM = train_env.action_space.n\n",
        "\n",
        "actor = MLP(INPUT_DIM, HIDDEN_DIM, OUTPUT_DIM)\n",
        "critic = MLP(INPUT_DIM, HIDDEN_DIM, 1)\n",
        "\n",
        "policy = ActorCritic(actor, critic)"
      ],
      "metadata": {
        "id": "j60LCqHVbucR"
      },
      "execution_count": null,
      "outputs": []
    },
    {
      "cell_type": "code",
      "source": [
        "def init_weights(m):\n",
        "    if type(m) == nn.Linear:\n",
        "        torch.nn.init.xavier_normal_(m.weight)\n",
        "        m.bias.data.fill_(0)"
      ],
      "metadata": {
        "id": "yP5PXYSdbwWz"
      },
      "execution_count": null,
      "outputs": []
    },
    {
      "cell_type": "code",
      "source": [
        "policy.apply(init_weights)"
      ],
      "metadata": {
        "colab": {
          "base_uri": "https://localhost:8080/"
        },
        "id": "ixRY05M6byA_",
        "outputId": "a8491d2b-f8bf-4363-a24a-8d8eda04ce88"
      },
      "execution_count": null,
      "outputs": [
        {
          "output_type": "execute_result",
          "data": {
            "text/plain": [
              "ActorCritic(\n",
              "  (actor): MLP(\n",
              "    (net): Sequential(\n",
              "      (0): Linear(in_features=8, out_features=128, bias=True)\n",
              "      (1): Dropout(p=0.1, inplace=False)\n",
              "      (2): PReLU(num_parameters=1)\n",
              "      (3): Linear(in_features=128, out_features=128, bias=True)\n",
              "      (4): Dropout(p=0.1, inplace=False)\n",
              "      (5): PReLU(num_parameters=1)\n",
              "      (6): Linear(in_features=128, out_features=4, bias=True)\n",
              "    )\n",
              "  )\n",
              "  (critic): MLP(\n",
              "    (net): Sequential(\n",
              "      (0): Linear(in_features=8, out_features=128, bias=True)\n",
              "      (1): Dropout(p=0.1, inplace=False)\n",
              "      (2): PReLU(num_parameters=1)\n",
              "      (3): Linear(in_features=128, out_features=128, bias=True)\n",
              "      (4): Dropout(p=0.1, inplace=False)\n",
              "      (5): PReLU(num_parameters=1)\n",
              "      (6): Linear(in_features=128, out_features=1, bias=True)\n",
              "    )\n",
              "  )\n",
              ")"
            ]
          },
          "metadata": {},
          "execution_count": 28
        }
      ]
    },
    {
      "cell_type": "code",
      "source": [
        "LEARNING_RATE = 0.0005\n",
        "\n",
        "optimizer = optim.Adam(policy.parameters(), lr = LEARNING_RATE)"
      ],
      "metadata": {
        "id": "3ebmEazUbzmP"
      },
      "execution_count": null,
      "outputs": []
    },
    {
      "cell_type": "code",
      "source": [
        "def train(env, policy, optimizer, discount_factor, ppo_steps, ppo_clip):\n",
        "\n",
        "    policy.train()\n",
        "\n",
        "    states = []\n",
        "    actions = []\n",
        "    log_prob_actions = []\n",
        "    values = []\n",
        "    rewards = []\n",
        "    done = False\n",
        "    episode_reward = 0\n",
        "\n",
        "    state = env.reset()\n",
        "\n",
        "    while not done:\n",
        "\n",
        "        state = torch.FloatTensor(state).unsqueeze(0)\n",
        "\n",
        "        #append state here, not after we get the next state from env.step()\n",
        "        states.append(state)\n",
        "\n",
        "        action_pred, value_pred = policy(state)\n",
        "\n",
        "        action_prob = F.softmax(action_pred, dim = -1)\n",
        "\n",
        "        dist = distributions.Categorical(action_prob)\n",
        "\n",
        "        action = dist.sample()\n",
        "\n",
        "        log_prob_action = dist.log_prob(action)\n",
        "\n",
        "        state, reward, done, _ = env.step(action.item())\n",
        "\n",
        "        actions.append(action)\n",
        "        log_prob_actions.append(log_prob_action)\n",
        "        values.append(value_pred)\n",
        "        rewards.append(reward)\n",
        "\n",
        "        episode_reward += reward\n",
        "\n",
        "    states = torch.cat(states)\n",
        "    actions = torch.cat(actions)\n",
        "    log_prob_actions = torch.cat(log_prob_actions)\n",
        "    values = torch.cat(values).squeeze(-1)\n",
        "\n",
        "    returns = calculate_returns(rewards, discount_factor)\n",
        "    advantages = calculate_advantages(returns, values)\n",
        "\n",
        "    policy_loss, value_loss = update_policy(policy, states, actions, log_prob_actions, advantages, returns, optimizer, ppo_steps, ppo_clip)\n",
        "\n",
        "    return policy_loss, value_loss, episode_reward"
      ],
      "metadata": {
        "id": "s6fL2Z4sb2ZQ"
      },
      "execution_count": null,
      "outputs": []
    },
    {
      "cell_type": "code",
      "source": [
        "def calculate_returns(rewards, discount_factor, normalize = True):\n",
        "\n",
        "    returns = []\n",
        "    R = 0\n",
        "\n",
        "    for r in reversed(rewards):\n",
        "        R = r + R * discount_factor\n",
        "        returns.insert(0, R)\n",
        "\n",
        "    returns = torch.tensor(returns)\n",
        "\n",
        "    if normalize:\n",
        "        returns = (returns - returns.mean()) / returns.std()\n",
        "\n",
        "    return returns"
      ],
      "metadata": {
        "id": "ffe_YLGpb74p"
      },
      "execution_count": null,
      "outputs": []
    },
    {
      "cell_type": "code",
      "source": [
        "def calculate_advantages(returns, values, normalize = True):\n",
        "\n",
        "    advantages = returns - values\n",
        "\n",
        "    if normalize:\n",
        "\n",
        "        advantages = (advantages - advantages.mean()) / advantages.std()\n",
        "\n",
        "    return advantages"
      ],
      "metadata": {
        "id": "CwwA6GkZb-lQ"
      },
      "execution_count": null,
      "outputs": []
    },
    {
      "cell_type": "code",
      "source": [
        "def update_policy(policy, states, actions, log_prob_actions, advantages, returns, optimizer, ppo_steps, ppo_clip):\n",
        "\n",
        "    total_policy_loss = 0\n",
        "    total_value_loss = 0\n",
        "\n",
        "    states = states.detach()\n",
        "    actions = actions.detach()\n",
        "    log_prob_actions = log_prob_actions.detach()\n",
        "    advantages = advantages.detach()\n",
        "    returns = returns.detach()\n",
        "\n",
        "    for _ in range(ppo_steps):\n",
        "\n",
        "        #get new log prob of actions for all input states\n",
        "        action_pred, value_pred = policy(states)\n",
        "        value_pred = value_pred.squeeze(-1)\n",
        "        action_prob = F.softmax(action_pred, dim = -1)\n",
        "        dist = distributions.Categorical(action_prob)\n",
        "\n",
        "        #new log prob using old actions\n",
        "        new_log_prob_actions = dist.log_prob(actions)\n",
        "\n",
        "        policy_ratio = (new_log_prob_actions - log_prob_actions).exp()\n",
        "\n",
        "        policy_loss_1 = policy_ratio * advantages\n",
        "        policy_loss_2 = torch.clamp(policy_ratio, min = 1.0 - ppo_clip, max = 1.0 + ppo_clip) * advantages\n",
        "\n",
        "        policy_loss = - torch.min(policy_loss_1, policy_loss_2).mean()\n",
        "\n",
        "        value_loss = F.smooth_l1_loss(returns, value_pred).mean()\n",
        "\n",
        "        optimizer.zero_grad()\n",
        "\n",
        "        policy_loss.backward()\n",
        "        value_loss.backward()\n",
        "\n",
        "        optimizer.step()\n",
        "\n",
        "        total_policy_loss += policy_loss.item()\n",
        "        total_value_loss += value_loss.item()\n",
        "\n",
        "    return total_policy_loss / ppo_steps, total_value_loss / ppo_steps"
      ],
      "metadata": {
        "id": "4gh3WVGVcAWa"
      },
      "execution_count": null,
      "outputs": []
    },
    {
      "cell_type": "code",
      "source": [
        "def evaluate(env, policy):\n",
        "\n",
        "    policy.eval()\n",
        "\n",
        "    rewards = []\n",
        "    done = False\n",
        "    episode_reward = 0\n",
        "\n",
        "    state = env.reset()\n",
        "\n",
        "    while not done:\n",
        "\n",
        "        state = torch.FloatTensor(state).unsqueeze(0)\n",
        "\n",
        "        with torch.no_grad():\n",
        "\n",
        "            action_pred, _ = policy(state)\n",
        "\n",
        "            action_prob = F.softmax(action_pred, dim = -1)\n",
        "\n",
        "        action = torch.argmax(action_prob, dim = -1)\n",
        "\n",
        "        state, reward, done, _ = env.step(action.item())\n",
        "\n",
        "        episode_reward += reward\n",
        "\n",
        "    return episode_reward"
      ],
      "metadata": {
        "id": "u4PJMloJcCso"
      },
      "execution_count": null,
      "outputs": []
    },
    {
      "cell_type": "code",
      "source": [
        "MAX_EPISODES = 1_000\n",
        "DISCOUNT_FACTOR = 0.99\n",
        "N_TRIALS = 25\n",
        "REWARD_THRESHOLD = 200\n",
        "PRINT_EVERY = 10\n",
        "PPO_STEPS = 5\n",
        "PPO_CLIP = 0.2\n",
        "\n",
        "train_rewards = []\n",
        "test_rewards = []\n",
        "\n",
        "for episode in range(1, MAX_EPISODES+1):\n",
        "\n",
        "    policy_loss, value_loss, train_reward = train(train_env, policy, optimizer, DISCOUNT_FACTOR, PPO_STEPS, PPO_CLIP)\n",
        "\n",
        "    test_reward = evaluate(test_env, policy)\n",
        "\n",
        "    train_rewards.append(train_reward)\n",
        "    test_rewards.append(test_reward)\n",
        "\n",
        "    mean_train_rewards = np.mean(train_rewards[-N_TRIALS:])\n",
        "    mean_test_rewards = np.mean(test_rewards[-N_TRIALS:])\n",
        "\n",
        "    if episode % PRINT_EVERY == 0:\n",
        "\n",
        "        print(f'| Episode: {episode:3} | Mean Train Rewards: {mean_train_rewards:7.1f} | Mean Test Rewards: {mean_test_rewards:7.1f} |')\n",
        "\n",
        "    if mean_test_rewards >= REWARD_THRESHOLD:\n",
        "\n",
        "        print(f'Reached reward threshold in {episode} episodes')\n",
        "\n",
        "        break"
      ],
      "metadata": {
        "colab": {
          "base_uri": "https://localhost:8080/"
        },
        "id": "4G1-znL-cGV5",
        "outputId": "e7e3d8d7-44d9-4cc7-a249-a1ae39282c6a"
      },
      "execution_count": null,
      "outputs": [
        {
          "output_type": "stream",
          "name": "stdout",
          "text": [
            "| Episode:  10 | Mean Train Rewards:  -182.1 | Mean Test Rewards:  -632.6 |\n",
            "| Episode:  20 | Mean Train Rewards:  -179.9 | Mean Test Rewards:  -770.7 |\n",
            "| Episode:  30 | Mean Train Rewards:  -209.0 | Mean Test Rewards:  -851.5 |\n",
            "| Episode:  40 | Mean Train Rewards:  -181.3 | Mean Test Rewards:  -553.0 |\n",
            "| Episode:  50 | Mean Train Rewards:  -135.7 | Mean Test Rewards:  -597.7 |\n",
            "| Episode:  60 | Mean Train Rewards:   -74.2 | Mean Test Rewards: -1612.2 |\n",
            "| Episode:  70 | Mean Train Rewards:  -151.6 | Mean Test Rewards: -1925.1 |\n",
            "| Episode:  80 | Mean Train Rewards:  -192.2 | Mean Test Rewards: -2377.2 |\n",
            "| Episode:  90 | Mean Train Rewards:  -206.4 | Mean Test Rewards: -2615.5 |\n",
            "| Episode: 100 | Mean Train Rewards:  -137.8 | Mean Test Rewards: -1973.5 |\n",
            "| Episode: 110 | Mean Train Rewards:  -239.4 | Mean Test Rewards: -1175.0 |\n",
            "| Episode: 120 | Mean Train Rewards:  -206.4 | Mean Test Rewards: -1122.7 |\n",
            "| Episode: 130 | Mean Train Rewards:   -73.9 | Mean Test Rewards:  -714.5 |\n",
            "| Episode: 140 | Mean Train Rewards:   -72.1 | Mean Test Rewards:  -632.7 |\n",
            "| Episode: 150 | Mean Train Rewards:   -48.3 | Mean Test Rewards:  -726.4 |\n",
            "| Episode: 160 | Mean Train Rewards:    -5.9 | Mean Test Rewards:  -771.9 |\n",
            "| Episode: 170 | Mean Train Rewards:    -8.5 | Mean Test Rewards:  -717.4 |\n",
            "| Episode: 180 | Mean Train Rewards:    -1.8 | Mean Test Rewards:  -578.9 |\n",
            "| Episode: 190 | Mean Train Rewards:   -12.1 | Mean Test Rewards:  -502.8 |\n",
            "| Episode: 200 | Mean Train Rewards:     2.7 | Mean Test Rewards:  -341.0 |\n",
            "| Episode: 210 | Mean Train Rewards:    11.3 | Mean Test Rewards:  -235.7 |\n",
            "| Episode: 220 | Mean Train Rewards:     8.8 | Mean Test Rewards:  -218.0 |\n",
            "| Episode: 230 | Mean Train Rewards:    16.7 | Mean Test Rewards:  -204.7 |\n",
            "| Episode: 240 | Mean Train Rewards:    59.4 | Mean Test Rewards:  -151.9 |\n",
            "| Episode: 250 | Mean Train Rewards:    51.5 | Mean Test Rewards:  -110.9 |\n",
            "| Episode: 260 | Mean Train Rewards:    52.3 | Mean Test Rewards:   -99.9 |\n",
            "| Episode: 270 | Mean Train Rewards:    73.1 | Mean Test Rewards:   -67.9 |\n",
            "| Episode: 280 | Mean Train Rewards:   110.3 | Mean Test Rewards:   -18.5 |\n",
            "| Episode: 290 | Mean Train Rewards:   114.4 | Mean Test Rewards:    51.5 |\n",
            "| Episode: 300 | Mean Train Rewards:   104.6 | Mean Test Rewards:    33.3 |\n",
            "| Episode: 310 | Mean Train Rewards:   101.6 | Mean Test Rewards:   -17.8 |\n",
            "| Episode: 320 | Mean Train Rewards:   106.6 | Mean Test Rewards:     0.4 |\n",
            "| Episode: 330 | Mean Train Rewards:   102.6 | Mean Test Rewards:     9.9 |\n",
            "| Episode: 340 | Mean Train Rewards:    87.5 | Mean Test Rewards:    -7.2 |\n",
            "| Episode: 350 | Mean Train Rewards:    86.3 | Mean Test Rewards:   -29.1 |\n",
            "| Episode: 360 | Mean Train Rewards:    85.8 | Mean Test Rewards:   -24.5 |\n",
            "| Episode: 370 | Mean Train Rewards:    89.2 | Mean Test Rewards:     8.6 |\n",
            "| Episode: 380 | Mean Train Rewards:    93.7 | Mean Test Rewards:    56.1 |\n",
            "| Episode: 390 | Mean Train Rewards:   100.1 | Mean Test Rewards:   129.5 |\n",
            "| Episode: 400 | Mean Train Rewards:    84.2 | Mean Test Rewards:    90.3 |\n",
            "| Episode: 410 | Mean Train Rewards:    80.1 | Mean Test Rewards:    80.4 |\n",
            "| Episode: 420 | Mean Train Rewards:    81.1 | Mean Test Rewards:    25.3 |\n",
            "| Episode: 430 | Mean Train Rewards:    87.0 | Mean Test Rewards:    15.1 |\n",
            "| Episode: 440 | Mean Train Rewards:    85.7 | Mean Test Rewards:     2.3 |\n",
            "| Episode: 450 | Mean Train Rewards:    96.7 | Mean Test Rewards:    30.9 |\n",
            "| Episode: 460 | Mean Train Rewards:    82.2 | Mean Test Rewards:    -4.0 |\n",
            "| Episode: 470 | Mean Train Rewards:    76.1 | Mean Test Rewards:   -21.0 |\n",
            "| Episode: 480 | Mean Train Rewards:    83.5 | Mean Test Rewards:   -18.2 |\n",
            "| Episode: 490 | Mean Train Rewards:   125.4 | Mean Test Rewards:    54.3 |\n",
            "| Episode: 500 | Mean Train Rewards:   153.1 | Mean Test Rewards:   124.6 |\n",
            "| Episode: 510 | Mean Train Rewards:   106.0 | Mean Test Rewards:   142.5 |\n",
            "| Episode: 520 | Mean Train Rewards:   108.0 | Mean Test Rewards:   134.1 |\n",
            "| Episode: 530 | Mean Train Rewards:   149.4 | Mean Test Rewards:   163.5 |\n",
            "| Episode: 540 | Mean Train Rewards:   168.9 | Mean Test Rewards:   168.0 |\n",
            "| Episode: 550 | Mean Train Rewards:   194.5 | Mean Test Rewards:   172.7 |\n",
            "| Episode: 560 | Mean Train Rewards:   190.3 | Mean Test Rewards:   157.6 |\n",
            "| Episode: 570 | Mean Train Rewards:   189.8 | Mean Test Rewards:   198.1 |\n",
            "Reached reward threshold in 571 episodes\n"
          ]
        }
      ]
    },
    {
      "cell_type": "code",
      "source": [
        "plt.figure(figsize=(12,8))\n",
        "plt.plot(test_rewards, label='Test Reward')\n",
        "plt.plot(train_rewards, label='Train Reward')\n",
        "plt.xlabel('Episode', fontsize=20)\n",
        "plt.ylabel('Reward', fontsize=20)\n",
        "plt.hlines(REWARD_THRESHOLD, 0, len(test_rewards), color='r')\n",
        "plt.legend(loc='lower right')\n",
        "plt.grid()"
      ],
      "metadata": {
        "colab": {
          "base_uri": "https://localhost:8080/",
          "height": 710
        },
        "id": "JrKRjZqbcISH",
        "outputId": "85c73af5-01cb-46c5-ae2e-4cacdce56cf7"
      },
      "execution_count": null,
      "outputs": [
        {
          "output_type": "display_data",
          "data": {
            "text/plain": [
              "<Figure size 1200x800 with 1 Axes>"
            ],
            "image/png": "[encoded data removed]"
          },
          "metadata": {}
        }
      ]
    },
    {
      "cell_type": "code",
      "source": [],
      "metadata": {
        "id": "S1_aV_5ykEMw"
      },
      "execution_count": null,
      "outputs": []
    }
  ]
}