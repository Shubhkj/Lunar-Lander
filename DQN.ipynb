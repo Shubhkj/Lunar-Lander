{
  "nbformat": 4,
  "nbformat_minor": 0,
  "metadata": {
    "colab": {
      "provenance": [],
      "authorship_tag": "ABX9TyNge13SJgXlUkMMMxz97ZK4",
      "include_colab_link": true
    },
    "kernelspec": {
      "name": "python3",
      "display_name": "Python 3"
    },
    "language_info": {
      "name": "python"
    }
  },
  "cells": [
    {
      "cell_type": "markdown",
      "metadata": {
        "id": "view-in-github",
        "colab_type": "text"
      },
      "source": [
        "<a href=\"https://colab.research.google.com/github/Shubhkj/Lunar-Lander/blob/main/DQN.ipynb\" target=\"_parent\"><img src=\"https://colab.research.google.com/assets/colab-badge.svg\" alt=\"Open In Colab\"/></a>"
      ]
    },
    {
      "cell_type": "code",
      "source": [
        "pip install swig"
      ],
      "metadata": {
        "colab": {
          "base_uri": "https://localhost:8080/"
        },
        "id": "qZxS1LLIavP7",
        "outputId": "8c8a6fde-07f8-4cbe-af1b-5943858699bc"
      },
      "execution_count": null,
      "outputs": [
        {
          "output_type": "stream",
          "name": "stdout",
          "text": [
            "Collecting swig\n",
            "  Downloading swig-4.2.1-py2.py3-none-manylinux_2_5_x86_64.manylinux1_x86_64.whl (1.9 MB)\n",
            "\u001b[2K     \u001b[90m━━━━━━━━━━━━━━━━━━━━━━━━━━━━━━━━━━━━━━━━\u001b[0m \u001b[32m1.9/1.9 MB\u001b[0m \u001b[31m2.6 MB/s\u001b[0m eta \u001b[36m0:00:00\u001b[0m\n",
            "\u001b[?25hInstalling collected packages: swig\n",
            "Successfully installed swig-4.2.1\n"
          ]
        }
      ]
    },
    {
      "cell_type": "code",
      "source": [
        "pip install gym[box2d]"
      ],
      "metadata": {
        "colab": {
          "base_uri": "https://localhost:8080/"
        },
        "id": "rK1zRcAJa5sE",
        "outputId": "e6af212e-7854-4e30-e8c7-5711873c1734"
      },
      "execution_count": null,
      "outputs": [
        {
          "output_type": "stream",
          "name": "stdout",
          "text": [
            "Requirement already satisfied: gym[box2d] in /usr/local/lib/python3.10/dist-packages (0.25.2)\n",
            "Requirement already satisfied: numpy>=1.18.0 in /usr/local/lib/python3.10/dist-packages (from gym[box2d]) (1.25.2)\n",
            "Requirement already satisfied: cloudpickle>=1.2.0 in /usr/local/lib/python3.10/dist-packages (from gym[box2d]) (2.2.1)\n",
            "Requirement already satisfied: gym-notices>=0.0.4 in /usr/local/lib/python3.10/dist-packages (from gym[box2d]) (0.0.8)\n",
            "Collecting box2d-py==2.3.5 (from gym[box2d])\n",
            "  Downloading box2d-py-2.3.5.tar.gz (374 kB)\n",
            "\u001b[2K     \u001b[90m━━━━━━━━━━━━━━━━━━━━━━━━━━━━━━━━━━━━━━━━\u001b[0m \u001b[32m374.4/374.4 kB\u001b[0m \u001b[31m3.0 MB/s\u001b[0m eta \u001b[36m0:00:00\u001b[0m\n",
            "\u001b[?25h  Preparing metadata (setup.py) ... \u001b[?25l\u001b[?25hdone\n",
            "Collecting pygame==2.1.0 (from gym[box2d])\n",
            "  Downloading pygame-2.1.0-cp310-cp310-manylinux_2_17_x86_64.manylinux2014_x86_64.whl (18.3 MB)\n",
            "\u001b[2K     \u001b[90m━━━━━━━━━━━━━━━━━━━━━━━━━━━━━━━━━━━━━━━━\u001b[0m \u001b[32m18.3/18.3 MB\u001b[0m \u001b[31m30.9 MB/s\u001b[0m eta \u001b[36m0:00:00\u001b[0m\n",
            "\u001b[?25hRequirement already satisfied: swig==4.* in /usr/local/lib/python3.10/dist-packages (from gym[box2d]) (4.2.1)\n",
            "Building wheels for collected packages: box2d-py\n",
            "  Building wheel for box2d-py (setup.py) ... \u001b[?25l\u001b[?25hdone\n",
            "  Created wheel for box2d-py: filename=box2d_py-2.3.5-cp310-cp310-linux_x86_64.whl size=2376102 sha256=f9d83a9ef4488ee870b56cfc6ba4cbc63adcdf4d208c93aea6ceb25062a82b29\n",
            "  Stored in directory: /root/.cache/pip/wheels/db/8f/6a/eaaadf056fba10a98d986f6dce954e6201ba3126926fc5ad9e\n",
            "Successfully built box2d-py\n",
            "Installing collected packages: box2d-py, pygame\n",
            "  Attempting uninstall: pygame\n",
            "    Found existing installation: pygame 2.5.2\n",
            "    Uninstalling pygame-2.5.2:\n",
            "      Successfully uninstalled pygame-2.5.2\n",
            "Successfully installed box2d-py-2.3.5 pygame-2.1.0\n"
          ]
        }
      ]
    },
    {
      "cell_type": "code",
      "execution_count": null,
      "metadata": {
        "id": "esYv00xWaMZT"
      },
      "outputs": [],
      "source": [
        "import torch\n",
        "import torch.nn as nn\n",
        "import torch.optim as optim\n",
        "\n",
        "import random\n",
        "import numpy as np\n",
        "import gym\n",
        "import gym.spaces as sp\n",
        "from tqdm import trange\n",
        "from time import sleep\n",
        "from collections import namedtuple, deque\n",
        "import matplotlib.pyplot as plt\n",
        "\n",
        "device = torch.device(\"cuda:0\" if torch.cuda.is_available() else \"cpu\")\n",
        "\n",
        "#%% Policy network\n",
        "class QNet(nn.Module):\n",
        "    # Policy Network\n",
        "    def __init__(self, n_states, n_actions, n_hidden=64):\n",
        "        super(QNet, self).__init__()\n",
        "\n",
        "        self.fc = nn.Sequential(\n",
        "            nn.Linear(n_states, n_hidden),\n",
        "            nn.ReLU(),\n",
        "            nn.Linear(n_hidden, n_hidden),\n",
        "            nn.ReLU(),\n",
        "            nn.Linear(n_hidden, n_actions)\n",
        "            )\n",
        "\n",
        "    def forward(self, x):\n",
        "        return self.fc(x)\n",
        "\n",
        "#%% dqn\n",
        "class DQN():\n",
        "    def __init__(self, n_states, n_actions, batch_size=64, lr=1e-4, gamma=0.99, mem_size=int(1e5), learn_step=5, tau=1e-3):\n",
        "        self.n_states = n_states\n",
        "        self.n_actions = n_actions\n",
        "        self.batch_size = batch_size\n",
        "        self.gamma = gamma\n",
        "        self.learn_step = learn_step\n",
        "        self.tau = tau\n",
        "\n",
        "        # model\n",
        "        self.net_eval = QNet(n_states, n_actions).to(device)\n",
        "        self.net_target = QNet(n_states, n_actions).to(device)\n",
        "        self.optimizer = optim.Adam(self.net_eval.parameters(), lr=lr)\n",
        "        self.criterion = nn.MSELoss()\n",
        "\n",
        "        # memory\n",
        "        self.memory = ReplayBuffer(n_actions, mem_size, batch_size)\n",
        "        self.counter = 0    # update cycle counter\n",
        "\n",
        "    def getAction(self, state, epsilon):\n",
        "        state = torch.from_numpy(state).float().unsqueeze(0).to(device)\n",
        "\n",
        "        self.net_eval.eval()\n",
        "        with torch.no_grad():\n",
        "            action_values = self.net_eval(state)\n",
        "        self.net_eval.train()\n",
        "\n",
        "        # epsilon-greedy\n",
        "        if random.random() < epsilon:\n",
        "            action = random.choice(np.arange(self.n_actions))\n",
        "        else:\n",
        "            action = np.argmax(action_values.cpu().data.numpy())\n",
        "\n",
        "        return action\n",
        "\n",
        "    def save2memory(self, state, action, reward, next_state, done):\n",
        "        self.memory.add(state, action, reward, next_state, done)\n",
        "\n",
        "        self.counter += 1\n",
        "        if self.counter % self.learn_step == 0:\n",
        "            if len(self.memory) >= self.batch_size:\n",
        "                experiences = self.memory.sample()\n",
        "                self.learn(experiences)\n",
        "\n",
        "    def learn(self, experiences):\n",
        "        states, actions, rewards, next_states, dones = experiences\n",
        "\n",
        "        q_target = self.net_target(next_states).detach().max(axis=1)[0].unsqueeze(1)\n",
        "        y_j = rewards + self.gamma * q_target * (1 - dones)          # target, if terminal then y_j = rewards\n",
        "        q_eval = self.net_eval(states).gather(1, actions)\n",
        "\n",
        "        # loss backprop\n",
        "        loss = self.criterion(q_eval, y_j)\n",
        "        self.optimizer.zero_grad()\n",
        "        loss.backward()\n",
        "        self.optimizer.step()\n",
        "\n",
        "        # soft update target network\n",
        "        self.softUpdate()\n",
        "\n",
        "    def softUpdate(self):\n",
        "        for eval_param, target_param in zip(self.net_eval.parameters(), self.net_target.parameters()):\n",
        "            target_param.data.copy_(self.tau*eval_param.data + (1.0-self.tau)*target_param.data)\n",
        "\n",
        "\n",
        "class ReplayBuffer():\n",
        "    def __init__(self, n_actions, memory_size, batch_size):\n",
        "        self.n_actions = n_actions\n",
        "        self.batch_size = batch_size\n",
        "        self.memory = deque(maxlen = memory_size)\n",
        "        self.experience = namedtuple(\"Experience\", field_names=[\"state\", \"action\", \"reward\", \"next_state\", \"done\"])\n",
        "\n",
        "    def __len__(self):\n",
        "        return len(self.memory)\n",
        "\n",
        "    def add(self, state, action, reward, next_state, done):\n",
        "        e = self.experience(state, action, reward, next_state, done)\n",
        "        self.memory.append(e)\n",
        "\n",
        "    def sample(self):\n",
        "        experiences = random.sample(self.memory, k=self.batch_size)\n",
        "\n",
        "        states = torch.from_numpy(np.vstack([e.state for e in experiences if e is not None])).float().to(device)\n",
        "        actions = torch.from_numpy(np.vstack([e.action for e in experiences if e is not None])).long().to(device)\n",
        "        rewards = torch.from_numpy(np.vstack([e.reward for e in experiences if e is not None])).float().to(device)\n",
        "        next_states = torch.from_numpy(np.vstack([e.next_state for e in experiences if e is not None])).float().to(device)\n",
        "        dones = torch.from_numpy(np.vstack([e.done for e in experiences if e is not None]).astype(np.uint8)).float().to(device)\n",
        "\n",
        "        return (states, actions, rewards, next_states, dones)"
      ]
    },
    {
      "cell_type": "code",
      "source": [
        "def train(env, agent, n_episodes=2000, max_steps=1000, eps_start=1.0, eps_end=0.1, eps_decay=0.995, target=200, chkpt=False):\n",
        "    score_hist = []\n",
        "    epsilon = eps_start\n",
        "\n",
        "    bar_format = '{l_bar}{bar:10}| {n:4}/{total_fmt} [{elapsed:>7}<{remaining:>7}, {rate_fmt}{postfix}]'\n",
        "    # bar_format = '{l_bar}{bar:10}{r_bar}'\n",
        "    pbar = trange(n_episodes, unit=\"ep\", bar_format=bar_format, ascii=True)\n",
        "    for idx_epi in pbar:\n",
        "        state = env.reset()\n",
        "        score = 0\n",
        "        for idx_step in range(max_steps):\n",
        "            action = agent.getAction(state, epsilon)\n",
        "            next_state, reward, done, _ = env.step(action)\n",
        "            agent.save2memory(state, action, reward, next_state, done)\n",
        "            state = next_state\n",
        "            score += reward\n",
        "\n",
        "            if done:\n",
        "                break\n",
        "\n",
        "        score_hist.append(score)\n",
        "        score_avg = np.mean(score_hist[-100:])\n",
        "        epsilon = max(eps_end, epsilon*eps_decay)\n",
        "\n",
        "        pbar.set_postfix_str(f\"Score: {score: 7.2f}, 100 score avg: {score_avg: 7.2f}\")\n",
        "        pbar.update(0)\n",
        "\n",
        "        # if (idx_epi+1) % 100 == 0:\n",
        "        #     print(\" \")\n",
        "        #     sleep(0.1)\n",
        "\n",
        "        # Early stop\n",
        "        if len(score_hist) >= 100:\n",
        "            if score_avg >= target:\n",
        "                break\n",
        "\n",
        "    if (idx_epi+1) < n_episodes:\n",
        "        print(\"\\nTarget Reached!\")\n",
        "    else:\n",
        "        print(\"\\nDone!\")\n",
        "\n",
        "    if chkpt:\n",
        "        torch.save(agent.net_eval.state_dict(), 'checkpoint.pth')\n",
        "\n",
        "    return score_hist\n",
        "\n",
        "#%% Test Lunar Lander\n",
        "def testLander(env, agent, loop=3):\n",
        "    for i in range(loop):\n",
        "        state = env.reset()\n",
        "        for idx_step in range(500):\n",
        "            action = agent.getAction(state, epsilon=0)\n",
        "            env.render()\n",
        "            state, reward, done, _ = env.step(action)\n",
        "            if done:\n",
        "                break\n",
        "    env.close()\n",
        "\n",
        "def plotScore(scores):\n",
        "    plt.figure()\n",
        "    plt.plot(scores)\n",
        "    plt.title(\"Score History\")\n",
        "    plt.xlabel(\"Episodes\")\n",
        "    plt.show()"
      ],
      "metadata": {
        "id": "DXcpCDseaj6w",
        "colab": {
          "base_uri": "https://localhost:8080/"
        },
        "outputId": "9d4c237d-7e85-4da7-da6e-7c4b53447612"
      },
      "execution_count": null,
      "outputs": [
        {
          "output_type": "stream",
          "name": "stderr",
          "text": [
            "/usr/local/lib/python3.10/dist-packages/ipykernel/ipkernel.py:283: DeprecationWarning: `should_run_async` will not call `transform_cell` automatically in the future. Please pass the result to `transformed_cell` argument and any exception that happen during thetransform in `preprocessing_exc_tuple` in IPython 7.17 and above.\n",
            "  and should_run_async(code)\n"
          ]
        }
      ]
    },
    {
      "cell_type": "code",
      "source": [
        "BATCH_SIZE = 128\n",
        "LR = 1e-3\n",
        "EPISODES = 5000\n",
        "TARGET_SCORE = 200.     # early training stop at avg score of last 100 episodes\n",
        "GAMMA = 0.99            # discount factor\n",
        "MEMORY_SIZE = 10000     # max memory buffer size\n",
        "LEARN_STEP = 5          # how often to learn\n",
        "TAU = 1e-3              # for soft update of target parameters\n",
        "SAVE_CHKPT = False      # save trained network .pth file"
      ],
      "metadata": {
        "id": "ulQiwGG8anIw"
      },
      "execution_count": null,
      "outputs": []
    },
    {
      "cell_type": "code",
      "source": [
        "env = gym.make('LunarLander-v2')\n",
        "num_states = env.observation_space.shape[0]\n",
        "num_actions = env.action_space.n\n",
        "agent = DQN(\n",
        "    n_states = num_states,\n",
        "    n_actions = num_actions,\n",
        "    batch_size = BATCH_SIZE,\n",
        "    lr = LR,\n",
        "    gamma = GAMMA,\n",
        "    mem_size = MEMORY_SIZE,\n",
        "    learn_step = LEARN_STEP,\n",
        "    tau = TAU,\n",
        "    )\n",
        "score_hist = train(env, agent, n_episodes=EPISODES, target=TARGET_SCORE, chkpt=SAVE_CHKPT)\n",
        "plotScore(score_hist)\n",
        "\n",
        "if str(device) == \"cuda\":\n",
        "    torch.cuda.empty_cache()"
      ],
      "metadata": {
        "colab": {
          "base_uri": "https://localhost:8080/"
        },
        "id": "mzbfmyX5mcJy",
        "outputId": "b0288d3d-30e8-4a12-c19f-ac707d05245a"
      },
      "execution_count": null,
      "outputs": [
        {
          "output_type": "stream",
          "name": "stderr",
          "text": [
            " 21%|##        | 1038/5000 [  18:40<1:11:15,  1.08s/ep, Score:  204.15, 100 score avg:  202.00]\n"
          ]
        },
        {
          "output_type": "stream",
          "name": "stdout",
          "text": [
            "\n",
            "Target Reached!\n"
          ]
        },
        {
          "output_type": "display_data",
          "data": {
            "text/plain": [
              "<Figure size 640x480 with 1 Axes>"
            ],
            "image/png": "[encoded data removed]"
          },
          "metadata": {}
        }
      ]
    }
  ]
}