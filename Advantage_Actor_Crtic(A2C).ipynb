{
  "nbformat": 4,
  "nbformat_minor": 0,
  "metadata": {
    "colab": {
      "provenance": [],
      "authorship_tag": "ABX9TyNwVJMZLDFi7NNUKcNoHMKN",
      "include_colab_link": true
    },
    "kernelspec": {
      "name": "python3",
      "display_name": "Python 3"
    },
    "language_info": {
      "name": "python"
    }
  },
  "cells": [
    {
      "cell_type": "markdown",
      "metadata": {
        "id": "view-in-github",
        "colab_type": "text"
      },
      "source": [
        "<a href=\"https://colab.research.google.com/github/Shubhkj/Lunar-Lander/blob/main/Advantage_Actor_Crtic(A2C).ipynb\" target=\"_parent\"><img src=\"https://colab.research.google.com/assets/colab-badge.svg\" alt=\"Open In Colab\"/></a>"
      ]
    },
    {
      "cell_type": "code",
      "source": [
        "pip install swig"
      ],
      "metadata": {
        "colab": {
          "base_uri": "https://localhost:8080/"
        },
        "id": "GqJGHHFptS6H",
        "outputId": "da710b3a-1634-471c-dc98-75ee06ef1c5e"
      },
      "execution_count": null,
      "outputs": [
        {
          "output_type": "stream",
          "name": "stdout",
          "text": [
            "Collecting swig\n",
            "  Downloading swig-4.2.1-py2.py3-none-manylinux_2_5_x86_64.manylinux1_x86_64.whl (1.9 MB)\n",
            "\u001b[2K     \u001b[90m━━━━━━━━━━━━━━━━━━━━━━━━━━━━━━━━━━━━━━━━\u001b[0m \u001b[32m1.9/1.9 MB\u001b[0m \u001b[31m8.0 MB/s\u001b[0m eta \u001b[36m0:00:00\u001b[0m\n",
            "\u001b[?25hInstalling collected packages: swig\n",
            "Successfully installed swig-4.2.1\n"
          ]
        }
      ]
    },
    {
      "cell_type": "code",
      "source": [
        "pip install gym[box2d]"
      ],
      "metadata": {
        "colab": {
          "base_uri": "https://localhost:8080/"
        },
        "id": "0CLzFV5ttWL2",
        "outputId": "0a2dd8e9-c8f7-4f53-b844-1be151c2fff9"
      },
      "execution_count": null,
      "outputs": [
        {
          "output_type": "stream",
          "name": "stdout",
          "text": [
            "Requirement already satisfied: gym[box2d] in /usr/local/lib/python3.10/dist-packages (0.25.2)\n",
            "Requirement already satisfied: numpy>=1.18.0 in /usr/local/lib/python3.10/dist-packages (from gym[box2d]) (1.25.2)\n",
            "Requirement already satisfied: cloudpickle>=1.2.0 in /usr/local/lib/python3.10/dist-packages (from gym[box2d]) (2.2.1)\n",
            "Requirement already satisfied: gym-notices>=0.0.4 in /usr/local/lib/python3.10/dist-packages (from gym[box2d]) (0.0.8)\n",
            "Collecting box2d-py==2.3.5 (from gym[box2d])\n",
            "  Downloading box2d-py-2.3.5.tar.gz (374 kB)\n",
            "\u001b[2K     \u001b[90m━━━━━━━━━━━━━━━━━━━━━━━━━━━━━━━━━━━━━━━━\u001b[0m \u001b[32m374.4/374.4 kB\u001b[0m \u001b[31m4.1 MB/s\u001b[0m eta \u001b[36m0:00:00\u001b[0m\n",
            "\u001b[?25h  Preparing metadata (setup.py) ... \u001b[?25l\u001b[?25hdone\n",
            "Collecting pygame==2.1.0 (from gym[box2d])\n",
            "  Downloading pygame-2.1.0-cp310-cp310-manylinux_2_17_x86_64.manylinux2014_x86_64.whl (18.3 MB)\n",
            "\u001b[2K     \u001b[90m━━━━━━━━━━━━━━━━━━━━━━━━━━━━━━━━━━━━━━━━\u001b[0m \u001b[32m18.3/18.3 MB\u001b[0m \u001b[31m32.7 MB/s\u001b[0m eta \u001b[36m0:00:00\u001b[0m\n",
            "\u001b[?25hRequirement already satisfied: swig==4.* in /usr/local/lib/python3.10/dist-packages (from gym[box2d]) (4.2.1)\n",
            "Building wheels for collected packages: box2d-py\n",
            "  Building wheel for box2d-py (setup.py) ... \u001b[?25l\u001b[?25hdone\n",
            "  Created wheel for box2d-py: filename=box2d_py-2.3.5-cp310-cp310-linux_x86_64.whl size=2376100 sha256=13711efa780c1e712e0624d40081a7d7ae91bcd4a3f1e986775a924260830507\n",
            "  Stored in directory: /root/.cache/pip/wheels/db/8f/6a/eaaadf056fba10a98d986f6dce954e6201ba3126926fc5ad9e\n",
            "Successfully built box2d-py\n",
            "Installing collected packages: box2d-py, pygame\n",
            "  Attempting uninstall: pygame\n",
            "    Found existing installation: pygame 2.5.2\n",
            "    Uninstalling pygame-2.5.2:\n",
            "      Successfully uninstalled pygame-2.5.2\n",
            "Successfully installed box2d-py-2.3.5 pygame-2.1.0\n"
          ]
        }
      ]
    },
    {
      "cell_type": "code",
      "execution_count": null,
      "metadata": {
        "id": "OjkoEnPetMWD"
      },
      "outputs": [],
      "source": [
        "import torch\n",
        "import torch.nn as nn\n",
        "import torch.optim as optim\n",
        "import torch.nn.functional as F\n",
        "import torch.distributions as distributions\n",
        "\n",
        "import matplotlib.pyplot as plt\n",
        "import numpy as np\n",
        "import gym"
      ]
    },
    {
      "cell_type": "code",
      "source": [
        "train_env = gym.make('LunarLander-v2')\n",
        "test_env = gym.make('LunarLander-v2')"
      ],
      "metadata": {
        "colab": {
          "base_uri": "https://localhost:8080/"
        },
        "id": "PENMD8NxtNFS",
        "outputId": "a2e7c2f5-2aa4-457b-c61b-18bb2dd8e5af"
      },
      "execution_count": null,
      "outputs": [
        {
          "output_type": "stream",
          "name": "stderr",
          "text": [
            "/usr/local/lib/python3.10/dist-packages/ipykernel/ipkernel.py:283: DeprecationWarning: `should_run_async` will not call `transform_cell` automatically in the future. Please pass the result to `transformed_cell` argument and any exception that happen during thetransform in `preprocessing_exc_tuple` in IPython 7.17 and above.\n",
            "  and should_run_async(code)\n",
            "/usr/local/lib/python3.10/dist-packages/gym/core.py:317: DeprecationWarning: \u001b[33mWARN: Initializing wrapper in old step API which returns one bool instead of two. It is recommended to set `new_step_api=True` to use new step API. This will be the default behaviour in future.\u001b[0m\n",
            "  deprecation(\n",
            "/usr/local/lib/python3.10/dist-packages/gym/wrappers/step_api_compatibility.py:39: DeprecationWarning: \u001b[33mWARN: Initializing environment in old step API which returns one bool instead of two. It is recommended to set `new_step_api=True` to use new step API. This will be the default behaviour in future.\u001b[0m\n",
            "  deprecation(\n"
          ]
        }
      ]
    },
    {
      "cell_type": "code",
      "source": [
        "class MLP(nn.Module):\n",
        "    def __init__(self, input_dim, hidden_dim, output_dim, dropout = 0.1):\n",
        "        super().__init__()\n",
        "\n",
        "        self.net = nn.Sequential(\n",
        "            nn.Linear(input_dim, hidden_dim),\n",
        "            nn.Dropout(dropout),\n",
        "            nn.PReLU(),\n",
        "            nn.Linear(hidden_dim, hidden_dim),\n",
        "            nn.Dropout(dropout),\n",
        "            nn.PReLU(),\n",
        "            nn.Linear(hidden_dim, output_dim)\n",
        "        )\n",
        "\n",
        "    def forward(self, x):\n",
        "        x = self.net(x)\n",
        "        return x"
      ],
      "metadata": {
        "id": "TbqanD-utQyC"
      },
      "execution_count": null,
      "outputs": []
    },
    {
      "cell_type": "code",
      "source": [
        "class ActorCritic(nn.Module):\n",
        "    def __init__(self, actor, critic):\n",
        "        super().__init__()\n",
        "\n",
        "        self.actor = actor\n",
        "        self.critic = critic\n",
        "\n",
        "    def forward(self, state):\n",
        "\n",
        "        action_pred = self.actor(state)\n",
        "        value_pred = self.critic(state)\n",
        "\n",
        "        return action_pred, value_pred"
      ],
      "metadata": {
        "id": "k-BZkafTtuLA"
      },
      "execution_count": null,
      "outputs": []
    },
    {
      "cell_type": "code",
      "source": [
        "INPUT_DIM = train_env.observation_space.shape[0]\n",
        "HIDDEN_DIM = 128\n",
        "OUTPUT_DIM = test_env.action_space.n\n",
        "\n",
        "actor = MLP(INPUT_DIM, HIDDEN_DIM, OUTPUT_DIM)\n",
        "critic = MLP(INPUT_DIM, HIDDEN_DIM, 1)\n",
        "\n",
        "policy = ActorCritic(actor, critic)"
      ],
      "metadata": {
        "id": "bgwZUoN8tw0G"
      },
      "execution_count": null,
      "outputs": []
    },
    {
      "cell_type": "code",
      "source": [
        "def init_weights(m):\n",
        "    if type(m) == nn.Linear:\n",
        "        torch.nn.init.xavier_normal_(m.weight)\n",
        "        m.bias.data.fill_(0)"
      ],
      "metadata": {
        "id": "eQsO_91ityXq"
      },
      "execution_count": null,
      "outputs": []
    },
    {
      "cell_type": "code",
      "source": [
        "policy.apply(init_weights)"
      ],
      "metadata": {
        "colab": {
          "base_uri": "https://localhost:8080/"
        },
        "id": "og-YDie-t0YK",
        "outputId": "fb9fd5be-98d6-4cb5-f2ac-d41e5a7f77b4"
      },
      "execution_count": null,
      "outputs": [
        {
          "output_type": "execute_result",
          "data": {
            "text/plain": [
              "ActorCritic(\n",
              "  (actor): MLP(\n",
              "    (net): Sequential(\n",
              "      (0): Linear(in_features=8, out_features=128, bias=True)\n",
              "      (1): Dropout(p=0.1, inplace=False)\n",
              "      (2): PReLU(num_parameters=1)\n",
              "      (3): Linear(in_features=128, out_features=128, bias=True)\n",
              "      (4): Dropout(p=0.1, inplace=False)\n",
              "      (5): PReLU(num_parameters=1)\n",
              "      (6): Linear(in_features=128, out_features=4, bias=True)\n",
              "    )\n",
              "  )\n",
              "  (critic): MLP(\n",
              "    (net): Sequential(\n",
              "      (0): Linear(in_features=8, out_features=128, bias=True)\n",
              "      (1): Dropout(p=0.1, inplace=False)\n",
              "      (2): PReLU(num_parameters=1)\n",
              "      (3): Linear(in_features=128, out_features=128, bias=True)\n",
              "      (4): Dropout(p=0.1, inplace=False)\n",
              "      (5): PReLU(num_parameters=1)\n",
              "      (6): Linear(in_features=128, out_features=1, bias=True)\n",
              "    )\n",
              "  )\n",
              ")"
            ]
          },
          "metadata": {},
          "execution_count": 9
        }
      ]
    },
    {
      "cell_type": "code",
      "source": [
        "LEARNING_RATE = 0.0005\n",
        "\n",
        "optimizer = optim.Adam(policy.parameters(), lr = LEARNING_RATE)"
      ],
      "metadata": {
        "id": "8cjoKgLQt3Tb"
      },
      "execution_count": null,
      "outputs": []
    },
    {
      "cell_type": "code",
      "source": [
        "def train(env, policy, optimizer, discount_factor):\n",
        "\n",
        "    policy.train()\n",
        "\n",
        "    log_prob_actions = []\n",
        "    values = []\n",
        "    rewards = []\n",
        "    done = False\n",
        "    episode_reward = 0\n",
        "\n",
        "    state = env.reset()\n",
        "\n",
        "    while not done:\n",
        "\n",
        "        state = torch.FloatTensor(state).unsqueeze(0)\n",
        "\n",
        "        action_pred = actor(state)\n",
        "        value_pred = critic(state)\n",
        "\n",
        "        action_prob = F.softmax(action_pred, dim = -1)\n",
        "\n",
        "        dist = distributions.Categorical(action_prob)\n",
        "\n",
        "        action = dist.sample()\n",
        "\n",
        "        log_prob_action = dist.log_prob(action)\n",
        "\n",
        "        state, reward, done, _ = env.step(action.item())\n",
        "\n",
        "        log_prob_actions.append(log_prob_action)\n",
        "        values.append(value_pred)\n",
        "        rewards.append(reward)\n",
        "\n",
        "        episode_reward += reward\n",
        "\n",
        "    log_prob_actions = torch.cat(log_prob_actions)\n",
        "    values = torch.cat(values).squeeze(-1)\n",
        "\n",
        "    returns = calculate_returns(rewards, discount_factor)\n",
        "    advantages = calculate_advantages(returns, values)\n",
        "\n",
        "    policy_loss, value_loss = update_policy(advantages, log_prob_actions, returns, values, optimizer)\n",
        "\n",
        "    return policy_loss, value_loss, episode_reward"
      ],
      "metadata": {
        "id": "eaGCZNVLt5SG",
        "colab": {
          "base_uri": "https://localhost:8080/"
        },
        "outputId": "bac6fa52-587e-44b3-e3ec-8127bfdb5b58"
      },
      "execution_count": null,
      "outputs": [
        {
          "output_type": "stream",
          "name": "stderr",
          "text": [
            "/usr/local/lib/python3.10/dist-packages/ipykernel/ipkernel.py:283: DeprecationWarning: `should_run_async` will not call `transform_cell` automatically in the future. Please pass the result to `transformed_cell` argument and any exception that happen during thetransform in `preprocessing_exc_tuple` in IPython 7.17 and above.\n",
            "  and should_run_async(code)\n"
          ]
        }
      ]
    },
    {
      "cell_type": "code",
      "source": [
        "def calculate_returns(rewards, discount_factor, normalize = True):\n",
        "\n",
        "    returns = []\n",
        "    R = 0\n",
        "\n",
        "    for r in reversed(rewards):\n",
        "        R = r + R * discount_factor\n",
        "        returns.insert(0, R)\n",
        "\n",
        "    returns = torch.tensor(returns)\n",
        "\n",
        "    if normalize:\n",
        "\n",
        "        returns = (returns - returns.mean()) / returns.std()\n",
        "\n",
        "    return returns"
      ],
      "metadata": {
        "id": "uWj-rumwt7eF"
      },
      "execution_count": null,
      "outputs": []
    },
    {
      "cell_type": "code",
      "source": [
        "def calculate_advantages(returns, values, normalize = True):\n",
        "\n",
        "    advantages = returns - values\n",
        "\n",
        "    if normalize:\n",
        "\n",
        "        advantages = (advantages - advantages.mean()) / advantages.std()\n",
        "\n",
        "    return advantages"
      ],
      "metadata": {
        "id": "pmZoc-v7t9WY"
      },
      "execution_count": null,
      "outputs": []
    },
    {
      "cell_type": "code",
      "source": [
        "def update_policy(advantages, log_prob_actions, returns, values, optimizer):\n",
        "\n",
        "    advantages = advantages.detach()\n",
        "    returns = returns.detach()\n",
        "\n",
        "    policy_loss = - (advantages * log_prob_actions).sum()\n",
        "\n",
        "    value_loss = F.smooth_l1_loss(returns, values).sum()\n",
        "\n",
        "    optimizer.zero_grad()\n",
        "\n",
        "    policy_loss.backward()\n",
        "    value_loss.backward()\n",
        "\n",
        "    optimizer.step()\n",
        "\n",
        "    return policy_loss.item(), value_loss.item()"
      ],
      "metadata": {
        "id": "wOavKkDht_v9"
      },
      "execution_count": null,
      "outputs": []
    },
    {
      "cell_type": "code",
      "source": [
        "def evaluate(env, policy):\n",
        "\n",
        "    policy.eval()\n",
        "\n",
        "    rewards = []\n",
        "    done = False\n",
        "    episode_reward = 0\n",
        "\n",
        "    state = env.reset()\n",
        "\n",
        "    while not done:\n",
        "\n",
        "        state = torch.FloatTensor(state).unsqueeze(0)\n",
        "\n",
        "        with torch.no_grad():\n",
        "\n",
        "            action_pred, _ = policy(state)\n",
        "\n",
        "            action_prob = F.softmax(action_pred, dim = -1)\n",
        "\n",
        "        action = torch.argmax(action_prob, dim = -1)\n",
        "\n",
        "        state, reward, done, _ = env.step(action.item())\n",
        "\n",
        "        episode_reward += reward\n",
        "\n",
        "    return episode_reward"
      ],
      "metadata": {
        "id": "F_pLScKGuB8P"
      },
      "execution_count": null,
      "outputs": []
    },
    {
      "cell_type": "code",
      "source": [
        "MAX_EPISODES = 2000\n",
        "DISCOUNT_FACTOR = 0.99\n",
        "N_TRIALS = 25\n",
        "REWARD_THRESHOLD = 200\n",
        "PRINT_EVERY = 10\n",
        "\n",
        "train_rewards = []\n",
        "test_rewards = []\n",
        "\n",
        "for episode in range(1, MAX_EPISODES+1):\n",
        "\n",
        "    policy_loss, value_loss, train_reward = train(train_env, policy, optimizer, DISCOUNT_FACTOR)\n",
        "\n",
        "    test_reward = evaluate(test_env, policy)\n",
        "\n",
        "    train_rewards.append(train_reward)\n",
        "    test_rewards.append(test_reward)\n",
        "\n",
        "    mean_train_rewards = np.mean(train_rewards[-N_TRIALS:])\n",
        "    mean_test_rewards = np.mean(test_rewards[-N_TRIALS:])\n",
        "\n",
        "    if episode % PRINT_EVERY == 0:\n",
        "\n",
        "        print(f'| Episode: {episode:3} | Mean Train Rewards: {mean_train_rewards:7.1f} | Mean Test Rewards: {mean_test_rewards:7.1f} |')\n",
        "\n",
        "    if mean_test_rewards >= REWARD_THRESHOLD:\n",
        "\n",
        "        print(f'Reached reward threshold in {episode} episodes')\n",
        "\n",
        "        break"
      ],
      "metadata": {
        "colab": {
          "base_uri": "https://localhost:8080/"
        },
        "id": "ZzL8kn-ruEG9",
        "outputId": "df8cd608-cb08-48df-c0f8-f3c7deb2f050"
      },
      "execution_count": null,
      "outputs": [
        {
          "output_type": "stream",
          "name": "stderr",
          "text": [
            "/usr/local/lib/python3.10/dist-packages/gym/utils/passive_env_checker.py:241: DeprecationWarning: `np.bool8` is a deprecated alias for `np.bool_`.  (Deprecated NumPy 1.24)\n",
            "  if not isinstance(terminated, (bool, np.bool8)):\n"
          ]
        },
        {
          "output_type": "stream",
          "name": "stdout",
          "text": [
            "| Episode:  10 | Mean Train Rewards:  -194.9 | Mean Test Rewards:  -159.2 |\n",
            "| Episode:  20 | Mean Train Rewards:  -170.6 | Mean Test Rewards:  -178.8 |\n",
            "| Episode:  30 | Mean Train Rewards:  -157.7 | Mean Test Rewards:  -178.0 |\n",
            "| Episode:  40 | Mean Train Rewards:  -154.8 | Mean Test Rewards:  -175.3 |\n",
            "| Episode:  50 | Mean Train Rewards:  -140.3 | Mean Test Rewards:  -174.0 |\n",
            "| Episode:  60 | Mean Train Rewards:  -129.7 | Mean Test Rewards:  -290.1 |\n",
            "| Episode:  70 | Mean Train Rewards:  -118.6 | Mean Test Rewards:  -605.3 |\n",
            "| Episode:  80 | Mean Train Rewards:  -126.4 | Mean Test Rewards:  -835.8 |\n",
            "| Episode:  90 | Mean Train Rewards:  -145.9 | Mean Test Rewards: -1048.7 |\n",
            "| Episode: 100 | Mean Train Rewards:  -158.3 | Mean Test Rewards: -1172.4 |\n",
            "| Episode: 110 | Mean Train Rewards:  -131.4 | Mean Test Rewards:  -956.5 |\n",
            "| Episode: 120 | Mean Train Rewards:  -137.5 | Mean Test Rewards:  -752.0 |\n",
            "| Episode: 130 | Mean Train Rewards:  -172.0 | Mean Test Rewards:  -749.5 |\n",
            "| Episode: 140 | Mean Train Rewards:  -209.6 | Mean Test Rewards:  -906.1 |\n",
            "| Episode: 150 | Mean Train Rewards:  -321.4 | Mean Test Rewards:  -868.3 |\n",
            "| Episode: 160 | Mean Train Rewards:  -334.8 | Mean Test Rewards:  -972.8 |\n",
            "| Episode: 170 | Mean Train Rewards:  -330.3 | Mean Test Rewards:  -968.8 |\n",
            "| Episode: 180 | Mean Train Rewards:  -208.3 | Mean Test Rewards:  -849.3 |\n",
            "| Episode: 190 | Mean Train Rewards:  -159.1 | Mean Test Rewards:  -925.3 |\n",
            "| Episode: 200 | Mean Train Rewards:  -144.7 | Mean Test Rewards: -1043.2 |\n",
            "| Episode: 210 | Mean Train Rewards:  -147.7 | Mean Test Rewards: -1019.4 |\n",
            "| Episode: 220 | Mean Train Rewards:  -148.4 | Mean Test Rewards: -1051.2 |\n",
            "| Episode: 230 | Mean Train Rewards:  -126.8 | Mean Test Rewards: -1091.3 |\n",
            "| Episode: 240 | Mean Train Rewards:  -111.4 | Mean Test Rewards: -1015.7 |\n",
            "| Episode: 250 | Mean Train Rewards:   -75.7 | Mean Test Rewards: -1236.2 |\n",
            "| Episode: 260 | Mean Train Rewards:   -67.9 | Mean Test Rewards: -1637.4 |\n",
            "| Episode: 270 | Mean Train Rewards:   -79.9 | Mean Test Rewards: -2046.5 |\n",
            "| Episode: 280 | Mean Train Rewards:   -81.6 | Mean Test Rewards: -2204.2 |\n",
            "| Episode: 290 | Mean Train Rewards:   -81.1 | Mean Test Rewards: -2134.5 |\n",
            "| Episode: 300 | Mean Train Rewards:   -58.3 | Mean Test Rewards: -1973.8 |\n",
            "| Episode: 310 | Mean Train Rewards:   -56.6 | Mean Test Rewards: -1910.5 |\n",
            "| Episode: 320 | Mean Train Rewards:   -58.0 | Mean Test Rewards: -2285.7 |\n",
            "| Episode: 330 | Mean Train Rewards:   -75.0 | Mean Test Rewards: -2029.6 |\n",
            "| Episode: 340 | Mean Train Rewards:   -90.1 | Mean Test Rewards: -1508.0 |\n",
            "| Episode: 350 | Mean Train Rewards:   -77.3 | Mean Test Rewards: -1187.8 |\n",
            "| Episode: 360 | Mean Train Rewards:   -55.0 | Mean Test Rewards:  -521.6 |\n",
            "| Episode: 370 | Mean Train Rewards:   -56.6 | Mean Test Rewards:  -409.5 |\n",
            "| Episode: 380 | Mean Train Rewards:   -75.9 | Mean Test Rewards:  -409.4 |\n",
            "| Episode: 390 | Mean Train Rewards:  -119.2 | Mean Test Rewards:  -477.7 |\n",
            "| Episode: 400 | Mean Train Rewards:   -96.4 | Mean Test Rewards:  -717.9 |\n",
            "| Episode: 410 | Mean Train Rewards:   -75.9 | Mean Test Rewards:  -939.3 |\n",
            "| Episode: 420 | Mean Train Rewards:   -27.6 | Mean Test Rewards:  -919.4 |\n",
            "| Episode: 430 | Mean Train Rewards:    -9.9 | Mean Test Rewards:  -679.9 |\n",
            "| Episode: 440 | Mean Train Rewards:    -9.4 | Mean Test Rewards:  -653.3 |\n",
            "| Episode: 450 | Mean Train Rewards:    -2.8 | Mean Test Rewards:  -445.9 |\n",
            "| Episode: 460 | Mean Train Rewards:     3.0 | Mean Test Rewards:  -258.5 |\n",
            "| Episode: 470 | Mean Train Rewards:     6.1 | Mean Test Rewards:  -245.5 |\n",
            "| Episode: 480 | Mean Train Rewards:    19.1 | Mean Test Rewards:  -271.2 |\n",
            "| Episode: 490 | Mean Train Rewards:    22.2 | Mean Test Rewards:  -295.9 |\n",
            "| Episode: 500 | Mean Train Rewards:    25.1 | Mean Test Rewards:  -354.9 |\n",
            "| Episode: 510 | Mean Train Rewards:    39.7 | Mean Test Rewards:  -378.7 |\n",
            "| Episode: 520 | Mean Train Rewards:    29.7 | Mean Test Rewards:  -312.0 |\n",
            "| Episode: 530 | Mean Train Rewards:    48.9 | Mean Test Rewards:  -223.1 |\n",
            "| Episode: 540 | Mean Train Rewards:    88.8 | Mean Test Rewards:  -365.9 |\n",
            "| Episode: 550 | Mean Train Rewards:   105.4 | Mean Test Rewards:  -464.5 |\n",
            "| Episode: 560 | Mean Train Rewards:    91.7 | Mean Test Rewards:  -418.9 |\n",
            "| Episode: 570 | Mean Train Rewards:   101.5 | Mean Test Rewards:  -233.0 |\n",
            "| Episode: 580 | Mean Train Rewards:   133.9 | Mean Test Rewards:  -111.6 |\n",
            "| Episode: 590 | Mean Train Rewards:   153.4 | Mean Test Rewards:   -76.8 |\n",
            "| Episode: 600 | Mean Train Rewards:   160.2 | Mean Test Rewards:   -68.9 |\n",
            "| Episode: 610 | Mean Train Rewards:   129.0 | Mean Test Rewards:   -71.9 |\n",
            "| Episode: 620 | Mean Train Rewards:   108.3 | Mean Test Rewards:   -74.6 |\n",
            "| Episode: 630 | Mean Train Rewards:   115.8 | Mean Test Rewards:   -97.1 |\n",
            "| Episode: 640 | Mean Train Rewards:   115.2 | Mean Test Rewards:   -96.0 |\n",
            "| Episode: 650 | Mean Train Rewards:   108.4 | Mean Test Rewards:   -76.9 |\n",
            "| Episode: 660 | Mean Train Rewards:    83.4 | Mean Test Rewards:   -47.7 |\n",
            "| Episode: 670 | Mean Train Rewards:    79.9 | Mean Test Rewards:   -36.7 |\n",
            "| Episode: 680 | Mean Train Rewards:   135.6 | Mean Test Rewards:   -25.6 |\n",
            "| Episode: 690 | Mean Train Rewards:   151.4 | Mean Test Rewards:   -32.1 |\n",
            "| Episode: 700 | Mean Train Rewards:   151.5 | Mean Test Rewards:   -38.9 |\n",
            "| Episode: 710 | Mean Train Rewards:   157.2 | Mean Test Rewards:   -48.7 |\n",
            "| Episode: 720 | Mean Train Rewards:   164.3 | Mean Test Rewards:   -54.4 |\n",
            "| Episode: 730 | Mean Train Rewards:   174.1 | Mean Test Rewards:   -43.1 |\n",
            "| Episode: 740 | Mean Train Rewards:   165.8 | Mean Test Rewards:   -34.5 |\n",
            "| Episode: 750 | Mean Train Rewards:   174.8 | Mean Test Rewards:   -29.6 |\n",
            "| Episode: 760 | Mean Train Rewards:   189.0 | Mean Test Rewards:   -30.8 |\n",
            "| Episode: 770 | Mean Train Rewards:   148.0 | Mean Test Rewards:   -27.2 |\n",
            "| Episode: 780 | Mean Train Rewards:   125.6 | Mean Test Rewards:   -27.3 |\n",
            "| Episode: 790 | Mean Train Rewards:   103.5 | Mean Test Rewards:   -32.1 |\n",
            "| Episode: 800 | Mean Train Rewards:   147.0 | Mean Test Rewards:   -31.0 |\n",
            "| Episode: 810 | Mean Train Rewards:   154.3 | Mean Test Rewards:   -29.2 |\n",
            "| Episode: 820 | Mean Train Rewards:   133.1 | Mean Test Rewards:   -31.0 |\n",
            "| Episode: 830 | Mean Train Rewards:   137.0 | Mean Test Rewards:   -43.9 |\n",
            "| Episode: 840 | Mean Train Rewards:   145.8 | Mean Test Rewards:   -40.4 |\n",
            "| Episode: 850 | Mean Train Rewards:   193.1 | Mean Test Rewards:   -34.3 |\n",
            "| Episode: 860 | Mean Train Rewards:   180.9 | Mean Test Rewards:   -20.0 |\n",
            "| Episode: 870 | Mean Train Rewards:   119.9 | Mean Test Rewards:   -14.9 |\n",
            "| Episode: 880 | Mean Train Rewards:    91.6 | Mean Test Rewards:   -13.0 |\n",
            "| Episode: 890 | Mean Train Rewards:    76.3 | Mean Test Rewards:    -6.5 |\n",
            "| Episode: 900 | Mean Train Rewards:    49.5 | Mean Test Rewards:    -6.3 |\n",
            "| Episode: 910 | Mean Train Rewards:   108.7 | Mean Test Rewards:   -16.7 |\n",
            "| Episode: 920 | Mean Train Rewards:   171.1 | Mean Test Rewards:   -16.5 |\n",
            "| Episode: 930 | Mean Train Rewards:   219.7 | Mean Test Rewards:   -19.1 |\n",
            "| Episode: 940 | Mean Train Rewards:   219.3 | Mean Test Rewards:   -18.8 |\n",
            "| Episode: 950 | Mean Train Rewards:   170.5 | Mean Test Rewards:   -19.6 |\n",
            "| Episode: 960 | Mean Train Rewards:   166.8 | Mean Test Rewards:   -16.8 |\n",
            "| Episode: 970 | Mean Train Rewards:   191.0 | Mean Test Rewards:   -14.2 |\n",
            "| Episode: 980 | Mean Train Rewards:   229.4 | Mean Test Rewards:   -18.7 |\n",
            "| Episode: 990 | Mean Train Rewards:   232.3 | Mean Test Rewards:   -27.3 |\n",
            "| Episode: 1000 | Mean Train Rewards:   234.9 | Mean Test Rewards:   -29.6 |\n",
            "| Episode: 1010 | Mean Train Rewards:   196.1 | Mean Test Rewards:   -28.8 |\n",
            "| Episode: 1020 | Mean Train Rewards:   190.4 | Mean Test Rewards:   -28.2 |\n",
            "| Episode: 1030 | Mean Train Rewards:   199.2 | Mean Test Rewards:   -23.5 |\n",
            "| Episode: 1040 | Mean Train Rewards:   173.4 | Mean Test Rewards:   -13.4 |\n",
            "| Episode: 1050 | Mean Train Rewards:   167.2 | Mean Test Rewards:   -11.1 |\n",
            "| Episode: 1060 | Mean Train Rewards:   169.5 | Mean Test Rewards:   -10.5 |\n",
            "| Episode: 1070 | Mean Train Rewards:   179.2 | Mean Test Rewards:   -12.3 |\n",
            "| Episode: 1080 | Mean Train Rewards:   198.3 | Mean Test Rewards:   -15.7 |\n",
            "| Episode: 1090 | Mean Train Rewards:   195.0 | Mean Test Rewards:   -19.0 |\n",
            "| Episode: 1100 | Mean Train Rewards:   166.4 | Mean Test Rewards:   -25.6 |\n",
            "| Episode: 1110 | Mean Train Rewards:   141.0 | Mean Test Rewards:   -21.8 |\n",
            "| Episode: 1120 | Mean Train Rewards:   143.4 | Mean Test Rewards:   -19.7 |\n",
            "| Episode: 1130 | Mean Train Rewards:   169.9 | Mean Test Rewards:   -19.8 |\n",
            "| Episode: 1140 | Mean Train Rewards:   166.3 | Mean Test Rewards:   -31.6 |\n",
            "| Episode: 1150 | Mean Train Rewards:   162.3 | Mean Test Rewards:   -37.2 |\n",
            "| Episode: 1160 | Mean Train Rewards:   129.0 | Mean Test Rewards:   -35.0 |\n",
            "| Episode: 1170 | Mean Train Rewards:   143.9 | Mean Test Rewards:   -32.7 |\n",
            "| Episode: 1180 | Mean Train Rewards:   158.0 | Mean Test Rewards:   -35.7 |\n",
            "| Episode: 1190 | Mean Train Rewards:   196.4 | Mean Test Rewards:   -30.3 |\n",
            "| Episode: 1200 | Mean Train Rewards:   247.7 | Mean Test Rewards:   -29.3 |\n",
            "| Episode: 1210 | Mean Train Rewards:   255.4 | Mean Test Rewards:   -21.7 |\n",
            "| Episode: 1220 | Mean Train Rewards:   231.3 | Mean Test Rewards:   -15.4 |\n",
            "| Episode: 1230 | Mean Train Rewards:   193.8 | Mean Test Rewards:   -15.7 |\n",
            "| Episode: 1240 | Mean Train Rewards:   182.3 | Mean Test Rewards:   -14.1 |\n",
            "| Episode: 1250 | Mean Train Rewards:   184.3 | Mean Test Rewards:   -10.3 |\n",
            "| Episode: 1260 | Mean Train Rewards:   172.7 | Mean Test Rewards:    -3.1 |\n",
            "| Episode: 1270 | Mean Train Rewards:   105.2 | Mean Test Rewards:    -4.2 |\n",
            "| Episode: 1280 | Mean Train Rewards:   109.8 | Mean Test Rewards:    13.3 |\n",
            "| Episode: 1290 | Mean Train Rewards:    90.9 | Mean Test Rewards:     8.6 |\n",
            "| Episode: 1300 | Mean Train Rewards:    96.1 | Mean Test Rewards:    -1.4 |\n",
            "| Episode: 1310 | Mean Train Rewards:   117.9 | Mean Test Rewards:   -10.3 |\n",
            "| Episode: 1320 | Mean Train Rewards:   176.5 | Mean Test Rewards:    -4.6 |\n",
            "| Episode: 1330 | Mean Train Rewards:   201.7 | Mean Test Rewards:    -9.7 |\n",
            "| Episode: 1340 | Mean Train Rewards:   223.9 | Mean Test Rewards:   -11.5 |\n",
            "| Episode: 1350 | Mean Train Rewards:   210.3 | Mean Test Rewards:   -22.2 |\n",
            "| Episode: 1360 | Mean Train Rewards:   229.8 | Mean Test Rewards:   -22.4 |\n",
            "| Episode: 1370 | Mean Train Rewards:   205.2 | Mean Test Rewards:   -20.4 |\n",
            "| Episode: 1380 | Mean Train Rewards:   180.1 | Mean Test Rewards:   -15.5 |\n",
            "| Episode: 1390 | Mean Train Rewards:   203.9 | Mean Test Rewards:   -13.6 |\n",
            "| Episode: 1400 | Mean Train Rewards:   195.4 | Mean Test Rewards:   -19.4 |\n",
            "| Episode: 1410 | Mean Train Rewards:   185.0 | Mean Test Rewards:   -27.9 |\n",
            "| Episode: 1420 | Mean Train Rewards:   189.5 | Mean Test Rewards:   -28.5 |\n",
            "| Episode: 1430 | Mean Train Rewards:   181.5 | Mean Test Rewards:   -27.2 |\n",
            "| Episode: 1440 | Mean Train Rewards:   214.8 | Mean Test Rewards:   -27.1 |\n",
            "| Episode: 1450 | Mean Train Rewards:   242.6 | Mean Test Rewards:   -29.2 |\n",
            "| Episode: 1460 | Mean Train Rewards:   224.3 | Mean Test Rewards:   -23.8 |\n",
            "| Episode: 1470 | Mean Train Rewards:   224.3 | Mean Test Rewards:   -25.9 |\n",
            "| Episode: 1480 | Mean Train Rewards:   186.9 | Mean Test Rewards:   -15.9 |\n",
            "| Episode: 1490 | Mean Train Rewards:   205.3 | Mean Test Rewards:   -10.4 |\n",
            "| Episode: 1500 | Mean Train Rewards:   206.3 | Mean Test Rewards:    -6.9 |\n",
            "| Episode: 1510 | Mean Train Rewards:   219.5 | Mean Test Rewards:    -4.0 |\n",
            "| Episode: 1520 | Mean Train Rewards:   192.8 | Mean Test Rewards:     2.6 |\n",
            "| Episode: 1530 | Mean Train Rewards:   215.8 | Mean Test Rewards:    -1.2 |\n",
            "| Episode: 1540 | Mean Train Rewards:   195.0 | Mean Test Rewards:    -9.1 |\n",
            "| Episode: 1550 | Mean Train Rewards:   157.6 | Mean Test Rewards:   -23.2 |\n",
            "| Episode: 1560 | Mean Train Rewards:   117.2 | Mean Test Rewards:    23.6 |\n",
            "| Episode: 1570 | Mean Train Rewards:   125.2 | Mean Test Rewards:    38.3 |\n",
            "| Episode: 1580 | Mean Train Rewards:   129.2 | Mean Test Rewards:    21.8 |\n",
            "| Episode: 1590 | Mean Train Rewards:   154.7 | Mean Test Rewards:    -2.8 |\n",
            "| Episode: 1600 | Mean Train Rewards:   159.2 | Mean Test Rewards:    -9.1 |\n",
            "| Episode: 1610 | Mean Train Rewards:   195.1 | Mean Test Rewards:    -6.1 |\n",
            "| Episode: 1620 | Mean Train Rewards:   208.2 | Mean Test Rewards:    -9.4 |\n",
            "| Episode: 1630 | Mean Train Rewards:   225.3 | Mean Test Rewards:   -19.2 |\n",
            "| Episode: 1640 | Mean Train Rewards:   233.6 | Mean Test Rewards:   -24.1 |\n",
            "| Episode: 1650 | Mean Train Rewards:   207.8 | Mean Test Rewards:   -28.5 |\n",
            "| Episode: 1660 | Mean Train Rewards:   201.0 | Mean Test Rewards:   -28.4 |\n",
            "| Episode: 1670 | Mean Train Rewards:   203.9 | Mean Test Rewards:   -22.4 |\n",
            "| Episode: 1680 | Mean Train Rewards:   240.3 | Mean Test Rewards:   -19.3 |\n",
            "| Episode: 1690 | Mean Train Rewards:   236.5 | Mean Test Rewards:   -17.1 |\n",
            "| Episode: 1700 | Mean Train Rewards:   219.7 | Mean Test Rewards:   -13.2 |\n",
            "| Episode: 1710 | Mean Train Rewards:   188.0 | Mean Test Rewards:    -7.1 |\n",
            "| Episode: 1720 | Mean Train Rewards:   198.7 | Mean Test Rewards:    -4.8 |\n",
            "| Episode: 1730 | Mean Train Rewards:   172.4 | Mean Test Rewards:    -3.3 |\n",
            "| Episode: 1740 | Mean Train Rewards:   163.0 | Mean Test Rewards:    -7.5 |\n",
            "| Episode: 1750 | Mean Train Rewards:   192.4 | Mean Test Rewards:   -16.3 |\n",
            "| Episode: 1760 | Mean Train Rewards:   221.4 | Mean Test Rewards:   -17.3 |\n",
            "| Episode: 1770 | Mean Train Rewards:   215.3 | Mean Test Rewards:   -13.7 |\n",
            "| Episode: 1780 | Mean Train Rewards:   198.2 | Mean Test Rewards:   -25.1 |\n",
            "| Episode: 1790 | Mean Train Rewards:   191.7 | Mean Test Rewards:   -23.4 |\n",
            "| Episode: 1800 | Mean Train Rewards:   211.9 | Mean Test Rewards:   -15.2 |\n",
            "| Episode: 1810 | Mean Train Rewards:   242.9 | Mean Test Rewards:    33.6 |\n",
            "| Episode: 1820 | Mean Train Rewards:   242.6 | Mean Test Rewards:   118.2 |\n",
            "| Episode: 1830 | Mean Train Rewards:   249.7 | Mean Test Rewards:   188.7 |\n",
            "| Episode: 1840 | Mean Train Rewards:   235.3 | Mean Test Rewards:   153.4 |\n",
            "| Episode: 1850 | Mean Train Rewards:   246.8 | Mean Test Rewards:    93.7 |\n",
            "| Episode: 1860 | Mean Train Rewards:   240.5 | Mean Test Rewards:    57.1 |\n",
            "| Episode: 1870 | Mean Train Rewards:   220.3 | Mean Test Rewards:   123.2 |\n",
            "| Episode: 1880 | Mean Train Rewards:   175.1 | Mean Test Rewards:   188.6 |\n",
            "Reached reward threshold in 1883 episodes\n"
          ]
        }
      ]
    },
    {
      "cell_type": "code",
      "source": [
        "plt.figure(figsize=(12,8))\n",
        "plt.plot(test_rewards, label='Test Reward')\n",
        "plt.plot(train_rewards, label='Train Reward')\n",
        "plt.xlabel('Episode', fontsize=20)\n",
        "plt.ylabel('Reward', fontsize=20)\n",
        "plt.hlines(REWARD_THRESHOLD, 0, len(test_rewards), color='r')\n",
        "plt.legend(loc='lower right')\n",
        "plt.grid()"
      ],
      "metadata": {
        "colab": {
          "base_uri": "https://localhost:8080/",
          "height": 710
        },
        "id": "QngfVF18uF0a",
        "outputId": "e1ffea3f-fa72-438a-dc61-d5ea3f06787a"
      },
      "execution_count": null,
      "outputs": [
        {
          "output_type": "display_data",
          "data": {
            "text/plain": [
              "<Figure size 1200x800 with 1 Axes>"
            ],
            "image/png": "[encoded data removed]"
          },
          "metadata": {}
        }
      ]
    },
    {
      "cell_type": "code",
      "source": [],
      "metadata": {
        "id": "8gO4qiNr28ko"
      },
      "execution_count": null,
      "outputs": []
    }
  ]
}